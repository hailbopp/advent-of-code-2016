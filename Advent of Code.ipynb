{
 "cells": [
  {
   "cell_type": "code",
   "execution_count": 27,
   "metadata": {
    "collapsed": false
   },
   "outputs": [
    {
     "data": {
      "text/plain": [
       "<null>"
      ]
     },
     "execution_count": 27,
     "metadata": {},
     "output_type": "execute_result"
    }
   ],
   "source": [
    "#load \"Paket.fsx\"\n",
    "Paket.Package [\"Newtonsoft.Json\";]\n",
    "\n",
    "#r @\"/IfSharp/bin/packages/Newtonsoft.Json/lib/net40/Newtonsoft.Json.dll\"\n"
   ]
  },
  {
   "cell_type": "code",
   "execution_count": 28,
   "metadata": {
    "collapsed": false
   },
   "outputs": [],
   "source": [
    "open Newtonsoft.Json\n",
    "\n",
    "let jsonify o = JsonConvert.SerializeObject(o, Newtonsoft.Json.Formatting.Indented)\n",
    "let jout o = jsonify o |> Display"
   ]
  },
  {
   "cell_type": "code",
   "execution_count": 56,
   "metadata": {
    "collapsed": false
   },
   "outputs": [
    {
     "data": {
      "text/plain": [
       "271"
      ]
     },
     "metadata": {},
     "output_type": "display_data"
    },
    {
     "data": {
      "text/plain": [
       "153"
      ]
     },
     "metadata": {},
     "output_type": "display_data"
    },
    {
     "name": "stderr",
     "output_type": "stream",
     "text": [
      "/notebooks/input.fsx(18,53): warning FS0667: The field labels and expected type of this record expression or pattern do not uniquely determine a corresponding record type"
     ]
    }
   ],
   "source": [
    "// Day 1\n",
    "open System\n",
    "open System.Text.RegularExpressions\n",
    "\n",
    "let input = \"\"\"R4, R3, R5, L3, L5, R2, L2, R5, L2, R5, R5, R5, R1, R3, L2, L2, L1, R5, L3, R1, L2, R1, L3, L5, L1, R3, L4, R2, R4, L3, L1, R4, L4, R3, L5, L3, R188, R4, L1, R48, L5, R4, R71, R3, L2, R188, L3, R2, L3, R3, L5, L1, R1, L2, L4, L2, R5, L3, R3, R3, R4, L3, L4, R5, L4, L4, R3, R4, L4, R1, L3, L1, L1, R4, R1, L4, R1, L1, L3, R2, L2, R2, L1, R5, R3, R4, L5, R2, R5, L5, R1, R2, L1, L3, R3, R1, R3, L4, R4, L4, L1, R1, L2, L2, L4, R1, L3, R4, L2, R3, L1, L5, R4, R5, R2, R5, R1, R5, R1, R3, L3, L2, L2, L5, R2, L2, R5, R5, L2, R3, L5, R5, L2, R4, R2, L1, R3, L5, R3, R2, R5, L1, R3, L2, R2, R1\"\"\"\n",
    "\n",
    "type Turn = Right | Left\n",
    "type Instruction = Turn of Turn | Move\n",
    "type State = { pos: int*int; facing: int*int; visited: Set<int*int> }\n",
    "let startState = { pos = (0,0); facing = (0,-1); visited = Set.empty } \n",
    "let rotate (x,y) = function | Right -> (y*(-1),x) | Left -> (y,x*(-1)) \n",
    "let getDistance (x,y) = abs(x) + abs(y)\n",
    "let instructions = Regex.Matches(input, \"([LR])|(\\\\d+)\") \n",
    "                    |> Seq.cast<Match> |> Seq.map (fun m -> m.Value)\n",
    "                    |> Seq.collect (function | \"L\" -> [Turn Left] | \"R\" -> [Turn Right] | n -> [for _ in 1..int(n) -> Move])\n",
    "\n",
    "let move state instruction = match instruction with \n",
    "                                | Turn direction -> { state with facing = rotate state.facing direction }\n",
    "                                | Move ->\n",
    "                                    let addv (x,y) (i,j) = (x+i,y+j)\n",
    "                                    { state with pos = addv state.pos state.facing; visited = Set.add state.pos state.visited  }\n",
    "\n",
    "let endState = instructions |> Seq.fold move startState\n",
    "\n",
    "Display (getDistance endState.pos)\n",
    "\n",
    "let visitedTwice = instructions \n",
    "                    |> Seq.scan move startState\n",
    "                    |> Seq.find (fun f -> f.visited.Contains(f.pos))\n",
    "\n",
    "Display (getDistance visitedTwice.pos)\n",
    "\n"
   ]
  },
  {
   "cell_type": "code",
   "execution_count": 34,
   "metadata": {
    "collapsed": false
   },
   "outputs": [
    {
     "data": {
      "text/plain": [
       "\"73597\""
      ]
     },
     "metadata": {},
     "output_type": "display_data"
    },
    {
     "data": {
      "text/plain": [
       "\"A47DA\""
      ]
     },
     "metadata": {},
     "output_type": "display_data"
    },
    {
     "data": {
      "text/plain": [
       "<null>"
      ]
     },
     "execution_count": 34,
     "metadata": {},
     "output_type": "execute_result"
    }
   ],
   "source": [
    "module DayTwo =\n",
    "    let solve (keypad:string[]) startPos input =\n",
    "        let lookup (x,y) = keypad.[y].[x]\n",
    "        let isValid pos = lookup pos <> ' '\n",
    "        let followInstruction pos instruction = \n",
    "            let addv (x,y) (i,j) = x+i,y+j\n",
    "            let move = match instruction with | 'U' -> (0,-1) | 'D' -> (0,1) | 'R' -> (1,0) | 'L' -> (-1,0) | _ -> (0,0)\n",
    "            let newPos = addv pos move\n",
    "            if isValid newPos then newPos else pos\n",
    "        let followLine = Seq.fold followInstruction\n",
    "        input \n",
    "            |> Seq.scan followLine startPos\n",
    "            |> Seq.skip 1 \n",
    "            |> Seq.map (lookup >> string) \n",
    "            |> System.String.Concat \n",
    "\n",
    "    let keypadA = [| \"     \"; \" 123 \"; \" 456 \"; \" 789 \"; \"     \" |]\n",
    "    let keypadB = [| \"       \"; \"   1   \"; \"  234  \"; \" 56789 \"; \"  ABC  \"; \"   D   \"; \"       \" |]\n",
    "\n",
    "    let input = \"\"\"LRRLLLRDRURUDLRDDURULRULLDLRRLRLDULUDDDDLLRRLDUUDULDRURRLDULRRULDLRDUDLRLLLULDUURRRRURURULURRULRURDLULURDRDURDRLRRUUDRULLLLLDRULDDLLRDLURRLDUURDLRLUDLDUDLURLRLDRLUDUULRRRUUULLRDURUDRUDRDRLLDLDDDLDLRRULDUUDULRUDDRLLURDDRLDDUDLLLLULRDDUDDUUULRULUULRLLDULUDLLLLURRLDLUDLDDLDRLRRDRDUDDDLLLLLRRLLRLUDLULLDLDDRRUDDRLRDDURRDULLLURLRDLRRLRDLDURLDDULLLDRRURDULUDUDLLLDDDLLRLDDDLLRRLLURUULULDDDUDULUUURRUUDLDULULDRDDLURURDLDLULDUDUDDDDD\n",
    "    RUURUDRDUULRDDLRLLLULLDDUDRDURDLRUULLLLUDUDRRUDUULRRUUDDURDDDLLLLRRUURULULLUDDLRDUDULRURRDRDLDLDUULUULUDDLUDRLULRUDRDDDLRRUUDRRLULUULDULDDLRLURDRLURRRRULDDRLDLLLRULLDURRLUDULDRDUDRLRLULRURDDRLUDLRURDDRDULUDLDLLLDRLRUDLLLLLDUDRDUURUDDUDLDLDUDLLDLRRDLULLURLDDUDDRDUDLDDUULDRLURRDLDLLUUDLDLURRLDRDDLLDLRLULUDRDLLLDRLRLLLDRUULUDLLURDLLUURUDURDDRDRDDUDDRRLLUULRRDRULRURRULLDDDUDULDDRULRLDURLUDULDLDDDLRULLULULUDLDDRDLRDRDLDULRRLRLRLLLLLDDDRDDULRDULRRLDLUDDDDLUDRLLDLURDLRDLDRDRDURRDUDULLLDLUDLDRLRRDDDRRLRLLULDRLRLLLLDUUURDLLULLUDDRLULRDLDLDURRRUURDUDRDLLLLLLDDDURLDULDRLLDUDRULRRDLDUDRLLUUUDULURRUR\n",
    "    URRRLRLLDDDRRLDLDLUDRDRDLDUDDDLDRRDRLDULRRDRRDUDRRUUDUUUDLLUURLRDRRURRRRUDRLLLLRRDULRDDRUDLRLUDURRLRLDDRRLUULURLURURUDRULDUUDLULUURRRDDLRDLUDRDLDDDLRUDURRLLRDDRDRLRLLRLRUUDRRLDLUDRURUULDUURDRUULDLLDRDLRDUUDLRLRRLUDRRUULRDDRDLDDULRRRURLRDDRLLLRDRLURDLDRUULDRRRLURURUUUULULRURULRLDDDDLULRLRULDUDDULRUULRRRRRLRLRUDDURLDRRDDULLUULLDLUDDDUURLRRLDULUUDDULDDUULLLRUDLLLRDDDLUUURLDUDRLLLDRRLDDLUDLLDLRRRLDDRUULULUURDDLUR\n",
    "    UULDRLUULURDRLDULURLUDULDRRDULULUDLLDURRRURDRLRLLRLDDLURRDLUUDLULRDULDRDLULULULDDLURULLULUDDRRULULULRDULRUURRRUDLRLURDRURDRRUDLDDUURDUUDLULDUDDLUUURURLRRDLULURDURRRURURDUURDRRURRDDULRULRRDRRDRUUUUULRLUUUDUUULLRRDRDULRDDULDRRULRLDLLULUUULUUDRDUUUDLLULDDRRDULUURRDUULLUUDRLLDUDLLLURURLUDDLRURRDRLDDURLDLLUURLDUURULLLRURURLULLLUURUUULLDLRDLUDDRRDDUUDLRURDDDRURUURURRRDLUDRLUULDUDLRUUDRLDRRDLDLDLRUDDDDRRDLDDDLLDLULLRUDDUDDDLDDUURLDUDLRDRURULDULULUDRRDLLRURDULDDRRDLUURUUULULRURDUUDLULLURUDDRLDDUDURRDURRUURLDLLDDUUDLLUURDRULLRRUUURRLLDRRDLURRURDULDDDDRDD\n",
    "    LLRUDRUUDUDLRDRDRRLRDRRUDRDURURRLDDDDLRDURDLRRUDRLLRDDUULRULURRRLRULDUURLRURLRLDUDLLDULULDUUURLRURUDDDDRDDLLURDLDRRUDRLDULLRULULLRURRLLURDLLLRRRRDRULRUDUDUDULUURUUURDDLDRDRUUURLDRULDUDULRLRLULLDURRRRURRRDRULULUDLULDDRLRRULLDURUDDUULRUUURDRRLULRRDLDUDURUUUUUURRUUULURDUUDLLUURDLULUDDLUUULLDURLDRRDDLRRRDRLLDRRLUDRLLLDRUULDUDRDDRDRRRLUDUDRRRLDRLRURDLRULRDUUDRRLLRLUUUUURRURLURDRRUURDRRLULUDULRLLURDLLULDDDLRDULLLUDRLURDDLRURLLRDRDULULDDRDDLDDRUUURDUUUDURRLRDUDLRRLRRRDUULDRDUDRLDLRULDL\"\"\"\n",
    "\n",
    "    let inputlines = input.Split [|'\\n'|]\n",
    "\n",
    "Display <| DayTwo.solve DayTwo.keypadA (2,2) DayTwo.inputlines\n",
    "Display <| DayTwo.solve DayTwo.keypadB (1,3) DayTwo.inputlines"
   ]
  },
  {
   "cell_type": "code",
   "execution_count": 33,
   "metadata": {
    "collapsed": false
   },
   "outputs": [
    {
     "data": {
      "text/plain": [
       "982"
      ]
     },
     "metadata": {},
     "output_type": "display_data"
    },
    {
     "data": {
      "text/plain": [
       "1826"
      ]
     },
     "metadata": {},
     "output_type": "display_data"
    },
    {
     "data": {
      "text/plain": [
       "<null>"
      ]
     },
     "execution_count": 33,
     "metadata": {},
     "output_type": "execute_result"
    }
   ],
   "source": [
    "open System\n",
    "open System.IO\n",
    "\n",
    "module Triangle =\n",
    "    let validSides s1 s2 s3 = ((s1 + s2) > s3) && ((s2 + s3) > s1) && ((s1 + s3) > s2)\n",
    "    let isValid (sides:int[]) = \n",
    "        let a = sides.[0]\n",
    "        let b = sides.[1]\n",
    "        let c = sides.[2]\n",
    "        validSides a b c\n",
    "\n",
    "module DayThree =\n",
    "    let get_inputs () = File.ReadAllLines(\"/notebooks/aoc/day3_inputs\") |> Array.map (fun s -> s.Trim())\n",
    "                         |> Array.map (fun s -> s.Split [| ' ' |] \n",
    "                                                 |> Array.filter (fun n -> n.Length > 0)\n",
    "                                                 |> Array.map Int32.Parse)                                                 \n",
    "    let pivotFlatten rows = rows\n",
    "                            |> Array.collect (fun r -> r |> Array.mapi (fun idx el -> (idx,el)))\n",
    "                            |> Array.groupBy fst\n",
    "                            |> Array.collect (fun (idx, t) -> t |> Array.map snd)                    \n",
    "    let chunk s = s |> Array.chunkBySize 3        \n",
    "    \n",
    "    let possibleTriangleRows = get_inputs() |> Array.filter Triangle.isValid\n",
    "    let possibleTriangleColumns = get_inputs() |> pivotFlatten |> chunk |> Array.filter Triangle.isValid\n",
    "                     \n",
    "DayThree.possibleTriangleRows |> Array.length |> Display\n",
    "DayThree.possibleTriangleColumns |> Array.length |> Display\n"
   ]
  },
  {
   "cell_type": "code",
   "execution_count": 45,
   "metadata": {
    "collapsed": false
   },
   "outputs": [
    {
     "data": {
      "text/plain": [
       "\"[\n",
       "  {\n",
       "    \"Name\": \"northpoleobjectstorage\",\n",
       "    \"Id\": 548,\n",
       "    \"Checksum\": \"mcrpa\"\n",
       "  }\n",
       "]\""
      ]
     },
     "metadata": {},
     "output_type": "display_data"
    },
    {
     "data": {
      "text/plain": [
       "<null>"
      ]
     },
     "execution_count": 45,
     "metadata": {},
     "output_type": "execute_result"
    }
   ],
   "source": [
    "open System\n",
    "open System.IO\n",
    "open System.Text.RegularExpressions\n",
    "\n",
    "module DayFour =\n",
    "    module Cipher =\n",
    "        let chars = ['a' .. 'z']\n",
    "        let shift cnt s = \n",
    "            let rot c =\n",
    "                match c with\n",
    "                | c when c > 64 && c < 91 -> ((c - 65 + cnt) % 26) + 65\n",
    "                | c when c > 96 && c < 123 -> ((c - 97 + cnt) % 26) + 97\n",
    "                | _ -> c\n",
    "            s |> Array.ofSeq\n",
    "            |> Array.map(int >> rot >> char)\n",
    "            |> (fun seq -> new string(seq))\n",
    "\n",
    "            \n",
    "\n",
    "    type RoomIdentifier = {\n",
    "        Name: string;\n",
    "        Id: int;\n",
    "        Checksum: string;\n",
    "    }\n",
    "    \n",
    "    let sanitize (name:string) =\n",
    "        name.Replace(\"-\", \"\")\n",
    "\n",
    "    let parse_room input =\n",
    "        let m = Regex.Match(input, \"(?<name>[a-z|-]+)-{1}(?<id>\\d+)\\[(?<checksum>[a-z]{5})\\]\")\n",
    "        match m.Success with\n",
    "        | true -> Some { Name=m.Groups.[\"name\"].Value; Id=(Int32.Parse m.Groups.[\"id\"].Value); Checksum=m.Groups.[\"checksum\"].Value }\n",
    "        | _ -> None\n",
    "        \n",
    "    let count_letters : string -> (char * int) seq = Seq.countBy id\n",
    "    let top_five_letters (s:string) =\n",
    "        sanitize s\n",
    "        |> count_letters\n",
    "        |> Seq.sortBy (fun (letter, cnt) -> (cnt * -1), letter)\n",
    "        |> Seq.take 5\n",
    "        |> Seq.map (fun (letter, cnt) -> letter)\n",
    "        |> String.Concat\n",
    "        \n",
    "    let room_is_valid room = \n",
    "        (top_five_letters room.Name) = room.Checksum\n",
    "    \n",
    "\n",
    "    let get_inputs () =\n",
    "        File.ReadAllLines \"/notebooks/aoc/day4_inputs\"\n",
    "                |> Seq.ofArray\n",
    "                |> Seq.map parse_room\n",
    "                \n",
    "    let compute_solution inputs =\n",
    "        inputs\n",
    "            |> Seq.filter (fun r -> match r with\n",
    "                                    | Some ri -> true\n",
    "                                    | None -> false)\n",
    "            |> Seq.map (fun r -> r.Value)\n",
    "            |> Seq.filter room_is_valid\n",
    "            |> Seq.fold (fun sum (r:RoomIdentifier) -> sum + r.Id) 0\n",
    "    \n",
    "    let decryptRoom r =\n",
    "        {\n",
    "            Name=sanitize r.Name |> Cipher.shift r.Id ;\n",
    "            Id=r.Id;\n",
    "            Checksum=r.Checksum;\n",
    "        }\n",
    "    \n",
    "    let decrypt_list inputs =\n",
    "        inputs \n",
    "           |> Seq.filter (fun r -> match r with\n",
    "                                    | Some ri -> true\n",
    "                                    | None -> false)\n",
    "           |> Seq.map (fun r -> r.Value)\n",
    "           |> Seq.map decryptRoom\n",
    "           |> Seq.filter (fun s -> s.Name.Contains \"north\")\n",
    "            \n",
    "\n",
    "//DayFour.get_inputs() |> DayFour.compute_solution\n",
    "\n",
    "DayFour.get_inputs() |> DayFour.decrypt_list |> jout\n"
   ]
  },
  {
   "cell_type": "code",
   "execution_count": null,
   "metadata": {
    "collapsed": true
   },
   "outputs": [
    {
     "data": {
      "text/plain": [
       "\"00000FE1E92080B9951B053E70E31FCB\""
      ]
     },
     "metadata": {},
     "output_type": "display_data"
    },
    {
     "data": {
      "text/plain": [
       "\"000007C827126C81FA664211693F2540\""
      ]
     },
     "metadata": {},
     "output_type": "display_data"
    },
    {
     "data": {
      "text/plain": [
       "\"*******C\""
      ]
     },
     "metadata": {},
     "output_type": "display_data"
    },
    {
     "data": {
      "text/plain": [
       "\"000007880153F1B804481A39A6D2E86A\""
      ]
     },
     "metadata": {},
     "output_type": "display_data"
    },
    {
     "data": {
      "text/plain": [
       "\"00000A6E225253B6AAA8F20EFBAAD8B5\""
      ]
     },
     "metadata": {},
     "output_type": "display_data"
    },
    {
     "data": {
      "text/plain": [
       "\"00000096164643E2E0FBF5A91BFD7F06\""
      ]
     },
     "metadata": {},
     "output_type": "display_data"
    },
    {
     "data": {
      "text/plain": [
       "\"9******C\""
      ]
     },
     "metadata": {},
     "output_type": "display_data"
    },
    {
     "data": {
      "text/plain": [
       "\"00000E77A8B223B2D149990FB634BD74\""
      ]
     },
     "metadata": {},
     "output_type": "display_data"
    },
    {
     "data": {
      "text/plain": [
       "\"000006EC13BC03B597BEEE4FA9352176\""
      ]
     },
     "metadata": {},
     "output_type": "display_data"
    },
    {
     "data": {
      "text/plain": [
       "\"9*****EC\""
      ]
     },
     "metadata": {},
     "output_type": "display_data"
    },
    {
     "data": {
      "text/plain": [
       "\"00000EE477915A03C15F93AC53769648\""
      ]
     },
     "metadata": {},
     "output_type": "display_data"
    },
    {
     "data": {
      "text/plain": [
       "\"000009DF43B67685AFFEC89F91B75415\""
      ]
     },
     "metadata": {},
     "output_type": "display_data"
    },
    {
     "data": {
      "text/plain": [
       "\"00000426F1CD2F19A38114170B33C5EF\""
      ]
     },
     "metadata": {},
     "output_type": "display_data"
    },
    {
     "data": {
      "text/plain": [
       "\"9***2*EC\""
      ]
     },
     "metadata": {},
     "output_type": "display_data"
    },
    {
     "data": {
      "text/plain": [
       "\"00000986E2CECE509B2107F3AEEC61A8\""
      ]
     },
     "metadata": {},
     "output_type": "display_data"
    },
    {
     "data": {
      "text/plain": [
       "\"00000C3982DBDF86F639179E682D6E06\""
      ]
     },
     "metadata": {},
     "output_type": "display_data"
    },
    {
     "data": {
      "text/plain": [
       "\"000007D5EAD928E4D0AA9DC516F16F42\""
      ]
     },
     "metadata": {},
     "output_type": "display_data"
    },
    {
     "data": {
      "text/plain": [
       "\"00000BBC6C9D9886488CEE489EE37A95\""
      ]
     },
     "metadata": {},
     "output_type": "display_data"
    },
    {
     "data": {
      "text/plain": [
       "\"000007937C1B2A62EF8D18BAB5F52A5D\""
      ]
     },
     "metadata": {},
     "output_type": "display_data"
    },
    {
     "data": {
      "text/plain": [
       "\"000002966111D9B5C057AB99802FF414\""
      ]
     },
     "metadata": {},
     "output_type": "display_data"
    },
    {
     "data": {
      "text/plain": [
       "\"9*9*2*EC\""
      ]
     },
     "metadata": {},
     "output_type": "display_data"
    },
    {
     "data": {
      "text/plain": [
       "\"000007A798E0C990883B19A55CE03092\""
      ]
     },
     "metadata": {},
     "output_type": "display_data"
    },
    {
     "data": {
      "text/plain": [
       "\"000003810329EDB2A26E9CCF602FD5C1\""
      ]
     },
     "metadata": {},
     "output_type": "display_data"
    },
    {
     "data": {
      "text/plain": [
       "\"9*982*EC\""
      ]
     },
     "metadata": {},
     "output_type": "display_data"
    },
    {
     "data": {
      "text/plain": [
       "\"000009CCF896879E5A7DCB01830713C1\""
      ]
     },
     "metadata": {},
     "output_type": "display_data"
    },
    {
     "data": {
      "text/plain": [
       "\"000006A809B3A491B43A2E3B9987DD91\""
      ]
     },
     "metadata": {},
     "output_type": "display_data"
    },
    {
     "data": {
      "text/plain": [
       "\"00000718147992FE5089C79072CB3B97\""
      ]
     },
     "metadata": {},
     "output_type": "display_data"
    },
    {
     "data": {
      "text/plain": [
       "\"000004EA66BD2EA0B40182AA607F8848\""
      ]
     },
     "metadata": {},
     "output_type": "display_data"
    },
    {
     "data": {
      "text/plain": [
       "\"000005829911142C7C1592863F4FD438\""
      ]
     },
     "metadata": {},
     "output_type": "display_data"
    },
    {
     "data": {
      "text/plain": [
       "\"9*9828EC\""
      ]
     },
     "metadata": {},
     "output_type": "display_data"
    },
    {
     "data": {
      "text/plain": [
       "\"0000042318414A15D88DA98DD819A220\""
      ]
     },
     "metadata": {},
     "output_type": "display_data"
    },
    {
     "data": {
      "text/plain": [
       "\"00000A20471F651893CF571765225C2B\""
      ]
     },
     "metadata": {},
     "output_type": "display_data"
    },
    {
     "data": {
      "text/plain": [
       "\"000004CF633C6AD4FBE55232460C4DC6\""
      ]
     },
     "metadata": {},
     "output_type": "display_data"
    },
    {
     "data": {
      "text/plain": [
       "\"0000056F9E076BCE2A2058086C415D39\""
      ]
     },
     "metadata": {},
     "output_type": "display_data"
    },
    {
     "data": {
      "text/plain": [
       "\"000003045EBAA06C1F1CB74F0C56BFEC\""
      ]
     },
     "metadata": {},
     "output_type": "display_data"
    },
    {
     "data": {
      "text/plain": [
       "\"00000F18089AA0CCC16CC1C851EF2C3C\""
      ]
     },
     "metadata": {},
     "output_type": "display_data"
    },
    {
     "data": {
      "text/plain": [
       "\"000004F24F1BB351F29A363BF61963BD\""
      ]
     },
     "metadata": {},
     "output_type": "display_data"
    },
    {
     "data": {
      "text/plain": [
       "\"0000019BA65FEB3F3B74F37B29CE1481\""
      ]
     },
     "metadata": {},
     "output_type": "display_data"
    },
    {
     "data": {
      "text/plain": [
       "\"999828EC\""
      ]
     },
     "metadata": {},
     "output_type": "display_data"
    },
    {
     "data": {
      "text/plain": [
       "\"000004FB5C504E08E9EE2F9A679ADC29\""
      ]
     },
     "metadata": {},
     "output_type": "display_data"
    },
    {
     "data": {
      "text/plain": [
       "\"00000B10F56C243B8498B620D2386C73\""
      ]
     },
     "metadata": {},
     "output_type": "display_data"
    },
    {
     "data": {
      "text/plain": [
       "\"000007E2BE8A8305A2A880F656D5DAF7\""
      ]
     },
     "metadata": {},
     "output_type": "display_data"
    },
    {
     "data": {
      "text/plain": [
       "\"00000F814E9461D1561AC7F3DA140E74\""
      ]
     },
     "metadata": {},
     "output_type": "display_data"
    },
    {
     "data": {
      "text/plain": [
       "\"00000F206761DF519060C8B4ADBB3F08\""
      ]
     },
     "metadata": {},
     "output_type": "display_data"
    }
   ],
   "source": [
    "open System.Security.Cryptography\n",
    "open System.Text\n",
    "open System\n",
    "\n",
    "module String =\n",
    "    let char i (s:string) = s.Chars i\n",
    "    let lower (s:string) = s.ToLower()\n",
    "\n",
    "module DayFive =\n",
    "    let hasher = System.Security.Cryptography.MD5.Create()\n",
    "\n",
    "    let md5 (input:string) =\n",
    "        input\n",
    "        |> (System.Text.Encoding.ASCII.GetBytes >> hasher.ComputeHash)\n",
    "        \n",
    "    let hashstring (h:byte[]) = \n",
    "        h\n",
    "        |> Seq.map (fun c -> c.ToString(\"X2\"))\n",
    "        |> Seq.reduce (+)\n",
    "        \n",
    "    let hashes door = \n",
    "        let isSignificant (hash:byte[]) = \n",
    "            hash.[0] = 0uy && hash.[1] = 0uy && hash.[2] <= 0xFuy\n",
    "        door |> sprintf \"%s%d\" |> Seq.initInfinite\n",
    "             |> Seq.map md5\n",
    "             |> Seq.filter isSignificant\n",
    "             |> Seq.map hashstring\n",
    "             |> Seq.map (fun h ->\n",
    "                             Display h\n",
    "                             h)\n",
    "\n",
    "    let computeFirstCode door =\n",
    "        hashes door |> Seq.take 8\n",
    "                    |> Seq.map (String.char 5)\n",
    "                    |> String.Concat\n",
    "                    |> String.lower\n",
    "                    \n",
    "    let subChar (state:string) (idx, ch) =\n",
    "        if idx < 8 then match state.[idx] with\n",
    "                        | '*' -> \n",
    "                            let s = sprintf \"%s%c%s\" (state.Substring(0,idx)) ch (state.Substring(idx+1))\n",
    "                            Display s\n",
    "                            s\n",
    "                        | _ -> state\n",
    "        else state\n",
    "    \n",
    "    let computeSecondCode door =\n",
    "        let initState = (String.replicate (String.length door) \"*\")\n",
    "        hashes door |> Seq.map (fun h -> int h.[5] - int '0', h.[6])\n",
    "                    |> Seq.fold subChar initState\n",
    "                    |> String.lower\n",
    "                    \n",
    "//Display (DayFive.computeFirstCode \"cxdnnyjw\")\n",
    "Display (DayFive.computeSecondCode \"cxdnnyjw\")\n",
    "    "
   ]
  },
  {
   "cell_type": "code",
   "execution_count": 45,
   "metadata": {
    "collapsed": false
   },
   "outputs": [
    {
     "data": {
      "text/plain": [
       "\"cyxeoccr\""
      ]
     },
     "metadata": {},
     "output_type": "display_data"
    },
    {
     "data": {
      "text/plain": [
       "\"batwpask\""
      ]
     },
     "metadata": {},
     "output_type": "display_data"
    },
    {
     "data": {
      "text/plain": [
       "<null>"
      ]
     },
     "execution_count": 45,
     "metadata": {},
     "output_type": "execute_result"
    }
   ],
   "source": [
    "open System\n",
    "open System.IO\n",
    "\n",
    "module DaySix =\n",
    "    let input = File.ReadAllLines(\"/notebooks/aoc/day6_inputs\") |> Seq.map (fun s -> s.ToCharArray())\n",
    "    let messageLength = input |> Seq.head |> Array.length\n",
    "    let countCharacters s = s |> Seq.countBy id |> Seq.sortByDescending (fun (k,v) -> v)\n",
    "    let countPosition lines position = lines |> Seq.map (Array.item position) |> countCharacters\n",
    "    let solvePosition sorter position = position |> countPosition input |> sorter |> (fun (k,v) -> k)\n",
    "    \n",
    "    let solvePartOne = solvePosition Seq.head\n",
    "    let solvePartTwo = solvePosition Seq.last\n",
    "    \n",
    "    let getMessage (solver: int->char) = seq {0..(messageLength - 1)} |> Seq.map solver |> String.Concat\n",
    "    \n",
    "    let messageOne = getMessage solvePartOne\n",
    "    let messageTwo = getMessage solvePartTwo\n",
    "\n",
    "Display DaySix.messageOne\n",
    "Display DaySix.messageTwo\n",
    "\n"
   ]
  },
  {
   "cell_type": "code",
   "execution_count": 19,
   "metadata": {
    "collapsed": false
   },
   "outputs": [
    {
     "data": {
      "text/plain": [
       "105"
      ]
     },
     "metadata": {},
     "output_type": "display_data"
    },
    {
     "data": {
      "text/plain": [
       "258"
      ]
     },
     "metadata": {},
     "output_type": "display_data"
    },
    {
     "data": {
      "text/plain": [
       "<null>"
      ]
     },
     "execution_count": 19,
     "metadata": {},
     "output_type": "execute_result"
    }
   ],
   "source": [
    "open System\n",
    "open System.IO\n",
    "open System.Text.RegularExpressions\n",
    "\n",
    "module DaySeven =\n",
    "    let input = File.ReadAllLines \"/notebooks/aoc/day7_inputs\"\n",
    "    \n",
    "    let filterByIndex predicate sequence = \n",
    "        sequence |> Seq.indexed |> Seq.filter (fst >> predicate) |> Seq.map snd \n",
    "\n",
    "    let parseIpAddress ipAddress =\n",
    "        let parts = Regex.Split(ipAddress,@\"\\[(.*?)\\]\")\n",
    "        let supernetSequences = parts |> filterByIndex (fun n -> n % 2= 0) |> Seq.toArray \n",
    "        let hypernetSequences = parts |> filterByIndex (fun n -> n % 2= 1) |> Seq.toArray\n",
    "        supernetSequences, hypernetSequences\n",
    "\n",
    "    let supportsTls ipAddress = \n",
    "        let super,hyper = parseIpAddress ipAddress\n",
    "        let containsAbba s = s |> Seq.windowed 4 |> Seq.exists (function | [|a;b;c;d|] -> a=d&&b=c&&a<>b | _ -> false)\n",
    "        (super |> Array.exists containsAbba) && not (hyper |> Array.exists containsAbba)\n",
    "\n",
    "    let partA = input |> Seq.filter supportsTls |> Seq.length\n",
    "\n",
    "    let supportsSsl ipAddress = \n",
    "        let super,hyper = parseIpAddress ipAddress\n",
    "        let findAbas s = s |> Seq.windowed 3 |> Seq.filter (function | [|a;b;c|] -> a=c&&a<>b | _ -> false) |> Seq.map System.String\n",
    "        let abas = super |> Seq.collect findAbas\n",
    "        let makeBab (aba:string) = sprintf \"%c%c%c\" aba.[1] aba.[0] aba.[1]\n",
    "        let babExists bab = hyper |> Seq.exists (fun s -> s.Contains(bab))\n",
    "        super |> Seq.collect findAbas |> Seq.exists (makeBab >> babExists)\n",
    "\n",
    "    let partB = input |> Seq.filter supportsSsl |> Seq.length\n",
    "                    \n",
    "Display DaySeven.partA\n",
    "Display DaySeven.partB"
   ]
  },
  {
   "cell_type": "code",
   "execution_count": 54,
   "metadata": {
    "collapsed": false
   },
   "outputs": [
    {
     "data": {
      "text/plain": [
       "\"Part 1: 123\""
      ]
     },
     "metadata": {},
     "output_type": "display_data"
    },
    {
     "data": {
      "text/plain": [
       "\" xx  xxxx xxx  x  x xxx  xxxx xxx    xx xxx   xxx \""
      ]
     },
     "metadata": {},
     "output_type": "display_data"
    },
    {
     "data": {
      "text/plain": [
       "\"x  x x    x  x x  x x  x    x x  x    x x  x x    \""
      ]
     },
     "metadata": {},
     "output_type": "display_data"
    },
    {
     "data": {
      "text/plain": [
       "\"x  x xxx  xxx  x  x x  x   x  xxx     x x  x x    \""
      ]
     },
     "metadata": {},
     "output_type": "display_data"
    },
    {
     "data": {
      "text/plain": [
       "\"xxxx x    x  x x  x xxx   x   x  x    x xxx   xx  \""
      ]
     },
     "metadata": {},
     "output_type": "display_data"
    },
    {
     "data": {
      "text/plain": [
       "\"x  x x    x  x x  x x    x    x  x x  x x       x \""
      ]
     },
     "metadata": {},
     "output_type": "display_data"
    },
    {
     "data": {
      "text/plain": [
       "\"x  x x    xxx   xx  x    xxxx xxx   xx  x    xxx  \""
      ]
     },
     "metadata": {},
     "output_type": "display_data"
    },
    {
     "data": {
      "text/plain": [
       "<null>"
      ]
     },
     "execution_count": 54,
     "metadata": {},
     "output_type": "execute_result"
    }
   ],
   "source": [
    "open System\n",
    "open System.IO\n",
    "open System.Text.RegularExpressions\n",
    "\n",
    "module DayEight =\n",
    "    let (|Regex|_|) pattern input =\n",
    "        let m = Regex.Match(input, pattern)\n",
    "        if m.Success then Some(List.tail [ for g in m.Groups -> g.Value ]) else None\n",
    "\n",
    "\n",
    "    \n",
    "    let initW,initH = 50,6\n",
    "    let initialScreen = Array2D.init initW initH (fun _ _ -> false)\n",
    "    \n",
    "    let createRectangle (w,h) = for x in [0..(w-1)] do for y in [0..h-1] do initialScreen.[x, y] <- true\n",
    "    let rotate_x y dist =\n",
    "        let row = [0..initW-1] |> List.map (fun x -> initialScreen.[x, y])\n",
    "        for x in [0..initW-1] do initialScreen.[(x + dist) % initW, y] <- row.[x]\n",
    "    let rotate_y x dist =\n",
    "        let column = [0..initH-1] |> List.map (fun y -> initialScreen.[x, y])\n",
    "        for y in [0..initH-1] do initialScreen.[x, (y + dist) % initH] <- column.[y]\n",
    "        \n",
    "    let process_instruction line =\n",
    "        match line with\n",
    "         | Regex @\"rect (\\d+)x(\\d+)\" [w; h] -> createRectangle (Int32.Parse w,Int32.Parse h)\n",
    "         | Regex @\"rotate row y=(\\d+) by (\\d+)\" [y; dist] -> rotate_x (Int32.Parse y) (Int32.Parse dist)\n",
    "         | Regex @\"rotate column x=(\\d+) by (\\d+)\" [x; dist] -> rotate_y (Int32.Parse x) (Int32.Parse dist)\n",
    "         | _ -> failwith (\"Unknown instruction for \" + line)\n",
    "         \n",
    "    let input = File.ReadAllLines \"/notebooks/aoc/day8_inputs\" \n",
    "                        |> List.ofSeq |> List.iter process_instruction\n",
    "                        \n",
    "    let printScreen (screen: bool[,]) =        \n",
    "        for y in [0..initH-1] do\n",
    "            let mutable s = \"\"\n",
    "            for x in [0..initW-1] do \n",
    "                s <- s + (if screen.[x, y] then \"x\" else \" \")\n",
    "            Display s\n",
    "\n",
    "\n",
    "\n",
    "Display (DayEight.initialScreen |> Seq.cast<bool> |> Seq.filter id |> Seq.length |> (sprintf \"Part 1: %d\"))\n",
    "(DayEight.printScreen DayEight.initialScreen) |> Display\n"
   ]
  },
  {
   "cell_type": "code",
   "execution_count": 74,
   "metadata": {
    "collapsed": false
   },
   "outputs": [
    {
     "data": {
      "text/plain": [
       "\"Part 1:  120765\""
      ]
     },
     "metadata": {},
     "output_type": "display_data"
    },
    {
     "data": {
      "text/plain": [
       "\"Part 2:  11658395076\""
      ]
     },
     "metadata": {},
     "output_type": "display_data"
    },
    {
     "name": "stderr",
     "output_type": "stream",
     "text": [
      "/notebooks/input.fsx(14,17): warning FS0025: Incomplete pattern matches on this expression. For example, the value '[_;_;_]' may indicate a case not covered by the pattern(s)."
     ]
    }
   ],
   "source": [
    "open System\n",
    "open System.IO\n",
    "open System.Text.RegularExpressions\n",
    "\n",
    "let (|Regex|_|) pattern input =\n",
    "        let m = Regex.Match(input, pattern)\n",
    "        if m.Success then Some(List.tail [ for g in m.Groups -> g.Value ]) else None\n",
    "\n",
    "module DayNine = \n",
    "    let rec expand (input : string) fn =\n",
    "        let cnt = input |> Seq.takeWhile (fun c -> c <> '(') |> Seq.length\n",
    "        if cnt = input.Length then bigint cnt else\n",
    "            let s = input |> Seq.skip (cnt+1) |> Seq.takeWhile (fun c -> c <> ')') |> String.Concat\n",
    "            let [n; t] = List.tail [for g in (Regex.Match (s, @\"(\\d+)x(\\d+)\")).Groups -> g.Value] |> List.map int\n",
    "            bigint cnt \n",
    "                + (bigint t * (fn input (cnt + s.Length + 2) n)) \n",
    "                + (expand (input |> Seq.skip (cnt + s.Length + 2 + n) |> String.Concat) fn)\n",
    "\n",
    "\n",
    "let input = (File.ReadAllLines \"/notebooks/aoc/day9\") |> Seq.head\n",
    "Display (sprintf \"Part 1:  %A\" (DayNine.expand input (fun _ _ nchars -> bigint nchars)))\n",
    "\n",
    "let rec f (s : string) k n = DayNine.expand (s |> Seq.skip k |> Seq.take n |> String.Concat) f\n",
    "Display (sprintf \"Part 2:  %A\" (DayNine.expand input f))\n",
    "                    \n",
    "    "
   ]
  }
 ],
 "metadata": {
  "kernelspec": {
   "display_name": "F#",
   "language": "fsharp",
   "name": "ifsharp"
  },
  "language": "fsharp",
  "language_info": {
   "codemirror_mode": "",
   "file_extension": ".fs",
   "mimetype": "text/x-fsharp",
   "name": "fsharp",
   "nbconvert_exporter": "",
   "pygments_lexer": "",
   "version": "4.3.1.0"
  }
 },
 "nbformat": 4,
 "nbformat_minor": 1
}
